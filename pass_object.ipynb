{
 "cells": [
  {
   "cell_type": "markdown",
   "metadata": {},
   "source": [
    "# Mutable vs. immutable Objects"
   ]
  },
  {
   "cell_type": "markdown",
   "metadata": {},
   "source": [
    "## Mutable Objects"
   ]
  },
  {
   "cell_type": "markdown",
   "metadata": {},
   "source": [
    "Mutable object can be modified after creation.``` Example include lists, dictionaries,and set.``` Change to these objects affect their memory contents. "
   ]
  },
  {
   "cell_type": "code",
   "execution_count": 1,
   "metadata": {},
   "outputs": [
    {
     "name": "stdout",
     "output_type": "stream",
     "text": [
      "list_a is: [1, 2, 3, 5]\n",
      "list_b is: [1, 2, 3, 5]\n"
     ]
    }
   ],
   "source": [
    "list_a= [1,2,3]\n",
    "list_b= list_a\n",
    "list_b.append(5)\n",
    "print(f\"list_a is: {list_a}\")\n",
    "print(f\"list_b is: {list_b}\")"
   ]
  },
  {
   "cell_type": "code",
   "execution_count": 2,
   "metadata": {},
   "outputs": [
    {
     "name": "stdout",
     "output_type": "stream",
     "text": [
      "dict_a : {'name': 'nasir', 'fname': 'manzoor hussain', 'education': 'BS IT'}\n",
      "dict_b is: {'name': 'nasir', 'fname': 'manzoor hussain', 'education': 'BS IT'}\n"
     ]
    }
   ],
   "source": [
    "dict_a :dict[str,str]= {\"name\":\"nasir\", \"fname\":\"manzoor hussain\"}\n",
    "dict_b= dict_a\n",
    "dict_b[\"education\"]= \"BS IT\"\n",
    "print(f\"dict_a : {dict_a}\")\n",
    "print(f\"dict_b is: {dict_b}\")"
   ]
  },
  {
   "cell_type": "code",
   "execution_count": 3,
   "metadata": {},
   "outputs": [
    {
     "name": "stdout",
     "output_type": "stream",
     "text": [
      "set_a  : {2, 3, 4}\n",
      "set_b is: {2, 3, 4}\n"
     ]
    }
   ],
   "source": [
    "set_a :set[int]= {1,2,3,4}\n",
    "set_b= set_a\n",
    "set_b.pop()\n",
    "print(f\"set_a  : {set_a }\")\n",
    "print(f\"set_b is: {set_b}\")"
   ]
  },
  {
   "cell_type": "markdown",
   "metadata": {},
   "source": [
    "## Immutable Objects"
   ]
  },
  {
   "cell_type": "markdown",
   "metadata": {},
   "source": [
    "Immutable object can not be modified after creation.``` Example includes integer, float, string and tuple``` Any \"modification\" results in a new object."
   ]
  },
  {
   "cell_type": "code",
   "execution_count": 4,
   "metadata": {},
   "outputs": [
    {
     "name": "stdout",
     "output_type": "stream",
     "text": [
      "a  : 5\n",
      "b: 6\n"
     ]
    }
   ],
   "source": [
    "a :int= 5\n",
    "b= a\n",
    "b=6\n",
    "\n",
    "print(f\"a  : {a }\")\n",
    "print(f\"b: {b}\")"
   ]
  },
  {
   "cell_type": "code",
   "execution_count": 5,
   "metadata": {},
   "outputs": [
    {
     "name": "stdout",
     "output_type": "stream",
     "text": [
      "a  : pakistan\n",
      "b: Hell Word\n"
     ]
    }
   ],
   "source": [
    "a :str= \"pakistan\"\n",
    "b= a\n",
    "b=\"Hell Word\"\n",
    "\n",
    "print(f\"a  : {a }\")\n",
    "print(f\"b: {b}\")"
   ]
  },
  {
   "cell_type": "code",
   "execution_count": 6,
   "metadata": {},
   "outputs": [
    {
     "name": "stdout",
     "output_type": "stream",
     "text": [
      "a  : 5.4\n",
      "b: 6.3\n"
     ]
    }
   ],
   "source": [
    "a :float= 5.4\n",
    "b= a\n",
    "b=6.3\n",
    "\n",
    "print(f\"a  : {a }\")\n",
    "print(f\"b: {b}\")"
   ]
  },
  {
   "cell_type": "code",
   "execution_count": 7,
   "metadata": {},
   "outputs": [
    {
     "name": "stdout",
     "output_type": "stream",
     "text": [
      "a  : (1, 2, 3)\n",
      "b: (3, 5, 6)\n"
     ]
    }
   ],
   "source": [
    "a :tuple= (1,2,3)\n",
    "b= a\n",
    "b= (3,5,6)\n",
    "\n",
    "print(f\"a  : {a }\")\n",
    "print(f\"b: {b}\")"
   ]
  },
  {
   "cell_type": "markdown",
   "metadata": {},
   "source": [
    "# passing by value vs passing by reference\n",
    "  * when you pass mutable data type then it called ``` passing by reference ```\n",
    "  * when you pass Immutable data type then it called``` passing by value```"
   ]
  },
  {
   "cell_type": "code",
   "execution_count": 8,
   "metadata": {},
   "outputs": [
    {
     "name": "stdout",
     "output_type": "stream",
     "text": [
      "The value of num1 after modifying is : [1, 2, 3, 4, 500]\n",
      "The original value of a  is : [1, 2, 3, 4, 500]\n"
     ]
    }
   ],
   "source": [
    "a :list[int] = [1,2,3,4]\n",
    "def func1(num1:list[int])->None:\n",
    "    num1.append(500)\n",
    "    print(f\"The value of num1 after modifying is : {num1}\")\n",
    "\n",
    "func1(a) # passing by reference because it is muatable \n",
    "print(f\"The original value of a  is : {a}\")"
   ]
  },
  {
   "cell_type": "code",
   "execution_count": 9,
   "metadata": {},
   "outputs": [
    {
     "name": "stdout",
     "output_type": "stream",
     "text": [
      "The value of num1 before modifying is : 5\n",
      "The value of num1 after modifying is : 6\n",
      "The original value of a  is : 5\n"
     ]
    }
   ],
   "source": [
    "a :int = 5\n",
    "def func1(num1:int)->None:\n",
    "    print(f\"The value of num1 before modifying is : {num1}\")\n",
    "    num1=6 # copy of original data so original value can not be change\n",
    "    print(f\"The value of num1 after modifying is : {num1}\")\n",
    "\n",
    "func1(a) # passing by value because it is immuatable\n",
    "print(f\"The original value of a  is : {a}\")"
   ]
  }
 ],
 "metadata": {
  "kernelspec": {
   "display_name": "Python 3",
   "language": "python",
   "name": "python3"
  },
  "language_info": {
   "codemirror_mode": {
    "name": "ipython",
    "version": 3
   },
   "file_extension": ".py",
   "mimetype": "text/x-python",
   "name": "python",
   "nbconvert_exporter": "python",
   "pygments_lexer": "ipython3",
   "version": "3.12.3"
  }
 },
 "nbformat": 4,
 "nbformat_minor": 2
}
